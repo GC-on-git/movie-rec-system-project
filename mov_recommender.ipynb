{
 "cells": [
  {
   "cell_type": "markdown",
   "id": "500cb618-f869-4d93-9f08-ed1d6d5f795c",
   "metadata": {},
   "source": [
    "# Importing all libraries"
   ]
  },
  {
   "cell_type": "code",
   "execution_count": 90,
   "id": "13ad047e-3f68-4efe-af16-33c6fdc4fb99",
   "metadata": {},
   "outputs": [],
   "source": [
    "import numpy as np\n",
    "import pandas as pd\n",
    "import matplotlib.pyplot as plt\n",
    "import seaborn as sns\n",
    "import ast\n",
    "import sklearn\n",
    "import nltk\n",
    "import pickle as pkl"
   ]
  },
  {
   "cell_type": "code",
   "execution_count": 2,
   "id": "e7779ba5-32d7-4e87-a4e5-4490a61f06be",
   "metadata": {},
   "outputs": [],
   "source": [
    "# making dataframes from datasets\n",
    "movie=pd.read_csv(\"tmdb_5000_movies.csv\")\n",
    "credit=pd.read_csv(\"tmdb_5000_credits.csv\")"
   ]
  },
  {
   "cell_type": "markdown",
   "id": "15ebdeaa-6414-47e1-adb2-80811cb7cbf8",
   "metadata": {
    "jp-MarkdownHeadingCollapsed": true
   },
   "source": [
    "# Checking the data\n"
   ]
  },
  {
   "cell_type": "code",
   "execution_count": 3,
   "id": "f1e367a3-beb8-4faf-8560-43f105ed3da7",
   "metadata": {},
   "outputs": [],
   "source": [
    "movies=movie.merge(credit,on=\"title\")"
   ]
  },
  {
   "cell_type": "code",
   "execution_count": 4,
   "id": "166cbd02-9657-4a42-9942-a526391d2283",
   "metadata": {},
   "outputs": [
    {
     "name": "stdout",
     "output_type": "stream",
     "text": [
      "<class 'pandas.core.frame.DataFrame'>\n",
      "RangeIndex: 4809 entries, 0 to 4808\n",
      "Data columns (total 23 columns):\n",
      " #   Column                Non-Null Count  Dtype  \n",
      "---  ------                --------------  -----  \n",
      " 0   budget                4809 non-null   int64  \n",
      " 1   genres                4809 non-null   object \n",
      " 2   homepage              1713 non-null   object \n",
      " 3   id                    4809 non-null   int64  \n",
      " 4   keywords              4809 non-null   object \n",
      " 5   original_language     4809 non-null   object \n",
      " 6   original_title        4809 non-null   object \n",
      " 7   overview              4806 non-null   object \n",
      " 8   popularity            4809 non-null   float64\n",
      " 9   production_companies  4809 non-null   object \n",
      " 10  production_countries  4809 non-null   object \n",
      " 11  release_date          4808 non-null   object \n",
      " 12  revenue               4809 non-null   int64  \n",
      " 13  runtime               4807 non-null   float64\n",
      " 14  spoken_languages      4809 non-null   object \n",
      " 15  status                4809 non-null   object \n",
      " 16  tagline               3965 non-null   object \n",
      " 17  title                 4809 non-null   object \n",
      " 18  vote_average          4809 non-null   float64\n",
      " 19  vote_count            4809 non-null   int64  \n",
      " 20  movie_id              4809 non-null   int64  \n",
      " 21  cast                  4809 non-null   object \n",
      " 22  crew                  4809 non-null   object \n",
      "dtypes: float64(3), int64(5), object(15)\n",
      "memory usage: 864.2+ KB\n"
     ]
    }
   ],
   "source": [
    "movies.info()"
   ]
  },
  {
   "cell_type": "markdown",
   "id": "2323647e-f41e-4bad-9f1e-663894ab078c",
   "metadata": {
    "jp-MarkdownHeadingCollapsed": true
   },
   "source": [
    "# Column selection "
   ]
  },
  {
   "cell_type": "code",
   "execution_count": 5,
   "id": "29bb950b-5643-4bba-bae2-6739a5710219",
   "metadata": {},
   "outputs": [
    {
     "data": {
      "text/plain": [
       "Index(['budget', 'genres', 'homepage', 'id', 'keywords', 'original_language',\n",
       "       'original_title', 'overview', 'popularity', 'production_companies',\n",
       "       'production_countries', 'release_date', 'revenue', 'runtime',\n",
       "       'spoken_languages', 'status', 'tagline', 'title', 'vote_average',\n",
       "       'vote_count', 'movie_id', 'cast', 'crew'],\n",
       "      dtype='object')"
      ]
     },
     "execution_count": 5,
     "metadata": {},
     "output_type": "execute_result"
    }
   ],
   "source": [
    "movies.columns"
   ]
  },
  {
   "cell_type": "code",
   "execution_count": 6,
   "id": "0c695c4b-41a6-4eaf-9906-946a80dea7be",
   "metadata": {},
   "outputs": [
    {
     "data": {
      "text/html": [
       "<div>\n",
       "<style scoped>\n",
       "    .dataframe tbody tr th:only-of-type {\n",
       "        vertical-align: middle;\n",
       "    }\n",
       "\n",
       "    .dataframe tbody tr th {\n",
       "        vertical-align: top;\n",
       "    }\n",
       "\n",
       "    .dataframe thead th {\n",
       "        text-align: right;\n",
       "    }\n",
       "</style>\n",
       "<table border=\"1\" class=\"dataframe\">\n",
       "  <thead>\n",
       "    <tr style=\"text-align: right;\">\n",
       "      <th></th>\n",
       "      <th>budget</th>\n",
       "      <th>genres</th>\n",
       "      <th>homepage</th>\n",
       "      <th>id</th>\n",
       "      <th>keywords</th>\n",
       "      <th>original_language</th>\n",
       "      <th>original_title</th>\n",
       "      <th>overview</th>\n",
       "      <th>popularity</th>\n",
       "      <th>production_companies</th>\n",
       "      <th>...</th>\n",
       "      <th>runtime</th>\n",
       "      <th>spoken_languages</th>\n",
       "      <th>status</th>\n",
       "      <th>tagline</th>\n",
       "      <th>title</th>\n",
       "      <th>vote_average</th>\n",
       "      <th>vote_count</th>\n",
       "      <th>movie_id</th>\n",
       "      <th>cast</th>\n",
       "      <th>crew</th>\n",
       "    </tr>\n",
       "  </thead>\n",
       "  <tbody>\n",
       "    <tr>\n",
       "      <th>0</th>\n",
       "      <td>237000000</td>\n",
       "      <td>[{\"id\": 28, \"name\": \"Action\"}, {\"id\": 12, \"nam...</td>\n",
       "      <td>http://www.avatarmovie.com/</td>\n",
       "      <td>19995</td>\n",
       "      <td>[{\"id\": 1463, \"name\": \"culture clash\"}, {\"id\":...</td>\n",
       "      <td>en</td>\n",
       "      <td>Avatar</td>\n",
       "      <td>In the 22nd century, a paraplegic Marine is di...</td>\n",
       "      <td>150.437577</td>\n",
       "      <td>[{\"name\": \"Ingenious Film Partners\", \"id\": 289...</td>\n",
       "      <td>...</td>\n",
       "      <td>162.0</td>\n",
       "      <td>[{\"iso_639_1\": \"en\", \"name\": \"English\"}, {\"iso...</td>\n",
       "      <td>Released</td>\n",
       "      <td>Enter the World of Pandora.</td>\n",
       "      <td>Avatar</td>\n",
       "      <td>7.2</td>\n",
       "      <td>11800</td>\n",
       "      <td>19995</td>\n",
       "      <td>[{\"cast_id\": 242, \"character\": \"Jake Sully\", \"...</td>\n",
       "      <td>[{\"credit_id\": \"52fe48009251416c750aca23\", \"de...</td>\n",
       "    </tr>\n",
       "  </tbody>\n",
       "</table>\n",
       "<p>1 rows × 23 columns</p>\n",
       "</div>"
      ],
      "text/plain": [
       "      budget                                             genres  \\\n",
       "0  237000000  [{\"id\": 28, \"name\": \"Action\"}, {\"id\": 12, \"nam...   \n",
       "\n",
       "                      homepage     id  \\\n",
       "0  http://www.avatarmovie.com/  19995   \n",
       "\n",
       "                                            keywords original_language  \\\n",
       "0  [{\"id\": 1463, \"name\": \"culture clash\"}, {\"id\":...                en   \n",
       "\n",
       "  original_title                                           overview  \\\n",
       "0         Avatar  In the 22nd century, a paraplegic Marine is di...   \n",
       "\n",
       "   popularity                               production_companies  ... runtime  \\\n",
       "0  150.437577  [{\"name\": \"Ingenious Film Partners\", \"id\": 289...  ...   162.0   \n",
       "\n",
       "                                    spoken_languages    status  \\\n",
       "0  [{\"iso_639_1\": \"en\", \"name\": \"English\"}, {\"iso...  Released   \n",
       "\n",
       "                       tagline   title vote_average vote_count movie_id  \\\n",
       "0  Enter the World of Pandora.  Avatar          7.2      11800    19995   \n",
       "\n",
       "                                                cast  \\\n",
       "0  [{\"cast_id\": 242, \"character\": \"Jake Sully\", \"...   \n",
       "\n",
       "                                                crew  \n",
       "0  [{\"credit_id\": \"52fe48009251416c750aca23\", \"de...  \n",
       "\n",
       "[1 rows x 23 columns]"
      ]
     },
     "execution_count": 6,
     "metadata": {},
     "output_type": "execute_result"
    }
   ],
   "source": [
    "movies.head(1)"
   ]
  },
  {
   "cell_type": "code",
   "execution_count": 7,
   "id": "c9d792c3-201f-4f6e-afbc-56ca3b6f8b46",
   "metadata": {},
   "outputs": [],
   "source": [
    "movies.drop(columns=['budget',\"homepage\",\"original_language\",\"original_title\",\"popularity\",\"production_companies\",\"production_countries\",'release_date','revenue','runtime',\n",
    "       'spoken_languages', 'status', 'tagline','vote_count', 'movie_id'],inplace=True)"
   ]
  },
  {
   "cell_type": "code",
   "execution_count": 8,
   "id": "1fe5e390-04cc-433d-8057-9232cc360a6f",
   "metadata": {},
   "outputs": [
    {
     "name": "stdout",
     "output_type": "stream",
     "text": [
      "<class 'pandas.core.frame.DataFrame'>\n",
      "RangeIndex: 4809 entries, 0 to 4808\n",
      "Data columns (total 8 columns):\n",
      " #   Column        Non-Null Count  Dtype  \n",
      "---  ------        --------------  -----  \n",
      " 0   genres        4809 non-null   object \n",
      " 1   id            4809 non-null   int64  \n",
      " 2   keywords      4809 non-null   object \n",
      " 3   overview      4806 non-null   object \n",
      " 4   title         4809 non-null   object \n",
      " 5   vote_average  4809 non-null   float64\n",
      " 6   cast          4809 non-null   object \n",
      " 7   crew          4809 non-null   object \n",
      "dtypes: float64(1), int64(1), object(6)\n",
      "memory usage: 300.7+ KB\n"
     ]
    }
   ],
   "source": [
    "movies.info()"
   ]
  },
  {
   "cell_type": "markdown",
   "id": "0df30f3c-9532-4fb1-9fde-69f2b577f28e",
   "metadata": {},
   "source": [
    "# Preprocessing"
   ]
  },
  {
   "cell_type": "code",
   "execution_count": 9,
   "id": "5a6680c9-ff1a-44ee-bd13-8e9e024b8392",
   "metadata": {},
   "outputs": [
    {
     "data": {
      "text/plain": [
       "genres          0\n",
       "id              0\n",
       "keywords        0\n",
       "overview        3\n",
       "title           0\n",
       "vote_average    0\n",
       "cast            0\n",
       "crew            0\n",
       "dtype: int64"
      ]
     },
     "execution_count": 9,
     "metadata": {},
     "output_type": "execute_result"
    }
   ],
   "source": [
    "movies.isnull().sum()  # check null rows"
   ]
  },
  {
   "cell_type": "code",
   "execution_count": 10,
   "id": "8545bc71-f994-431f-9cae-ced4355dd8d1",
   "metadata": {},
   "outputs": [],
   "source": [
    "movies.dropna(inplace=True)"
   ]
  },
  {
   "cell_type": "code",
   "execution_count": 11,
   "id": "709412ec-25ba-4ba6-958b-86e46e76a042",
   "metadata": {},
   "outputs": [
    {
     "data": {
      "text/plain": [
       "0"
      ]
     },
     "execution_count": 11,
     "metadata": {},
     "output_type": "execute_result"
    }
   ],
   "source": [
    "movies.duplicated().sum() #check duplicated rows"
   ]
  },
  {
   "cell_type": "code",
   "execution_count": 12,
   "id": "b0aa780f-1138-4e2f-87d5-14848d3a1d27",
   "metadata": {},
   "outputs": [],
   "source": [
    "movies=movies[[\"id\",\"title\",\"genres\",\"keywords\",\"overview\",\"cast\",\"crew\",\"vote_average\"]] #rearranging the columns for better inntuitive dataset"
   ]
  },
  {
   "cell_type": "markdown",
   "id": "3f9db887-4bb3-4f1f-81df-7a3e00f60ce5",
   "metadata": {},
   "source": [
    "#### 1. Checking the genre column"
   ]
  },
  {
   "cell_type": "code",
   "execution_count": 13,
   "id": "3024f34b-dd01-473c-9872-6ad1564e5ead",
   "metadata": {},
   "outputs": [
    {
     "data": {
      "text/plain": [
       "'[{\"id\": 28, \"name\": \"Action\"}, {\"id\": 12, \"name\": \"Adventure\"}, {\"id\": 14, \"name\": \"Fantasy\"}, {\"id\": 878, \"name\": \"Science Fiction\"}]'"
      ]
     },
     "execution_count": 13,
     "metadata": {},
     "output_type": "execute_result"
    }
   ],
   "source": [
    "movies.genres[0]"
   ]
  },
  {
   "cell_type": "code",
   "execution_count": 14,
   "id": "af2cdbea-9075-4d1b-bf73-d739074a0d87",
   "metadata": {},
   "outputs": [],
   "source": [
    "# make a function to get the genres in list format\n",
    "def get_genres(obj):\n",
    "    genre_list=[]\n",
    "    for i in ast.literal_eval(obj):  #literal eval converts string to list by raising an exception when datatype isnt valid\n",
    "        genre=i[\"name\"]\n",
    "        genre_list.append(genre)\n",
    "    return genre_list"
   ]
  },
  {
   "cell_type": "code",
   "execution_count": 15,
   "id": "0a76545d-026f-47b7-99c2-4921993b5549",
   "metadata": {},
   "outputs": [
    {
     "data": {
      "text/plain": [
       "['Action', 'Adventure', 'Fantasy', 'Science Fiction']"
      ]
     },
     "execution_count": 15,
     "metadata": {},
     "output_type": "execute_result"
    }
   ],
   "source": [
    "# check if get_genres is working properly\n",
    "get_genres(movies.genres[0])"
   ]
  },
  {
   "cell_type": "code",
   "execution_count": 16,
   "id": "438d75a4-ccbc-42fb-a7f4-3776aa3a2601",
   "metadata": {},
   "outputs": [],
   "source": [
    "movies.genres=movies.genres.apply(get_genres)"
   ]
  },
  {
   "cell_type": "markdown",
   "id": "8718a4ea-dd28-4169-9c6e-bd004a4f07bd",
   "metadata": {},
   "source": [
    "#### 2. Checking the keyword column"
   ]
  },
  {
   "cell_type": "code",
   "execution_count": 17,
   "id": "1508bc2f-645c-4433-ad20-e5a3aeba7448",
   "metadata": {},
   "outputs": [
    {
     "data": {
      "text/plain": [
       "'[{\"id\": 1463, \"name\": \"culture clash\"}, {\"id\": 2964, \"name\": \"future\"}, {\"id\": 3386, \"name\": \"space war\"}, {\"id\": 3388, \"name\": \"space colony\"}, {\"id\": 3679, \"name\": \"society\"}, {\"id\": 3801, \"name\": \"space travel\"}, {\"id\": 9685, \"name\": \"futuristic\"}, {\"id\": 9840, \"name\": \"romance\"}, {\"id\": 9882, \"name\": \"space\"}, {\"id\": 9951, \"name\": \"alien\"}, {\"id\": 10148, \"name\": \"tribe\"}, {\"id\": 10158, \"name\": \"alien planet\"}, {\"id\": 10987, \"name\": \"cgi\"}, {\"id\": 11399, \"name\": \"marine\"}, {\"id\": 13065, \"name\": \"soldier\"}, {\"id\": 14643, \"name\": \"battle\"}, {\"id\": 14720, \"name\": \"love affair\"}, {\"id\": 165431, \"name\": \"anti war\"}, {\"id\": 193554, \"name\": \"power relations\"}, {\"id\": 206690, \"name\": \"mind and soul\"}, {\"id\": 209714, \"name\": \"3d\"}]'"
      ]
     },
     "execution_count": 17,
     "metadata": {},
     "output_type": "execute_result"
    }
   ],
   "source": [
    "movies.keywords[0]"
   ]
  },
  {
   "cell_type": "code",
   "execution_count": 18,
   "id": "8dd23a4d-0705-4456-937d-391e62e70078",
   "metadata": {},
   "outputs": [],
   "source": [
    "movies.keywords=movies.keywords.apply(get_genres)"
   ]
  },
  {
   "cell_type": "markdown",
   "id": "ce9c5f39-1e83-475d-9c7d-4c05d1c7c1e3",
   "metadata": {},
   "source": [
    "#### 3. Checking cast and crew column"
   ]
  },
  {
   "cell_type": "code",
   "execution_count": 19,
   "id": "6ae42c33-2ef8-41ed-a2fa-b9b4bc4dd90b",
   "metadata": {},
   "outputs": [
    {
     "data": {
      "text/plain": [
       "{'cast_id': 242,\n",
       " 'character': 'Jake Sully',\n",
       " 'credit_id': '5602a8a7c3a3685532001c9a',\n",
       " 'gender': 2,\n",
       " 'id': 65731,\n",
       " 'name': 'Sam Worthington',\n",
       " 'order': 0}"
      ]
     },
     "execution_count": 19,
     "metadata": {},
     "output_type": "execute_result"
    }
   ],
   "source": [
    "ast.literal_eval(movies.cast[0])[0]"
   ]
  },
  {
   "cell_type": "code",
   "execution_count": 20,
   "id": "8cdc902f-53ae-4e36-a1b8-3e55876c5d91",
   "metadata": {},
   "outputs": [
    {
     "data": {
      "text/plain": [
       "dict_keys(['cast_id', 'character', 'credit_id', 'gender', 'id', 'name', 'order'])"
      ]
     },
     "execution_count": 20,
     "metadata": {},
     "output_type": "execute_result"
    }
   ],
   "source": [
    "ast.literal_eval(movies.cast[0])[0].keys()"
   ]
  },
  {
   "cell_type": "code",
   "execution_count": 21,
   "id": "20da7bdc-0109-4efd-bfa6-eabe83afca66",
   "metadata": {},
   "outputs": [],
   "source": [
    "# make a function to get the actor names in list format\n",
    "def get_names(obj):\n",
    "    names_list=[]\n",
    "    j=0\n",
    "    for i in ast.literal_eval(obj):  #literal eval converts string to list\n",
    "        names=i[\"name\"]\n",
    "        if j!=3:\n",
    "            names_list.append(names)\n",
    "            j+=1\n",
    "        else:\n",
    "            break        \n",
    "    return names_list"
   ]
  },
  {
   "cell_type": "code",
   "execution_count": 22,
   "id": "e74b8999-9dfb-4f54-a610-7b9f2d1f00d1",
   "metadata": {},
   "outputs": [
    {
     "data": {
      "text/plain": [
       "['Sam Worthington', 'Zoe Saldana', 'Sigourney Weaver']"
      ]
     },
     "execution_count": 22,
     "metadata": {},
     "output_type": "execute_result"
    }
   ],
   "source": [
    "# check if get_names is working properly\n",
    "get_names(movies.cast[0])"
   ]
  },
  {
   "cell_type": "code",
   "execution_count": 23,
   "id": "061ffed8-e52e-4c0e-ac27-e50fd270a4cd",
   "metadata": {},
   "outputs": [],
   "source": [
    "movies.cast=movies.cast.apply(get_names)"
   ]
  },
  {
   "cell_type": "code",
   "execution_count": 24,
   "id": "fdf47c01-dc35-40ca-a794-4080f9716545",
   "metadata": {},
   "outputs": [
    {
     "data": {
      "text/plain": [
       "{'credit_id': '52fe48009251416c750aca23',\n",
       " 'department': 'Editing',\n",
       " 'gender': 0,\n",
       " 'id': 1721,\n",
       " 'job': 'Editor',\n",
       " 'name': 'Stephen E. Rivkin'}"
      ]
     },
     "execution_count": 24,
     "metadata": {},
     "output_type": "execute_result"
    }
   ],
   "source": [
    "ast.literal_eval(movies.crew[0])[0]"
   ]
  },
  {
   "cell_type": "code",
   "execution_count": 25,
   "id": "2ab14f71-7871-4e5c-8b8e-2b2418dd0dcd",
   "metadata": {},
   "outputs": [
    {
     "data": {
      "text/plain": [
       "dict_keys(['credit_id', 'department', 'gender', 'id', 'job', 'name'])"
      ]
     },
     "execution_count": 25,
     "metadata": {},
     "output_type": "execute_result"
    }
   ],
   "source": [
    "ast.literal_eval(movies.crew[0])[0].keys()"
   ]
  },
  {
   "cell_type": "code",
   "execution_count": 26,
   "id": "263179fc-360a-4e43-9f6d-8fcd40532144",
   "metadata": {},
   "outputs": [],
   "source": [
    "# make a function to get the director names in list format\n",
    "def get_director(obj):\n",
    "    names_list=[]\n",
    "    for i in ast.literal_eval(obj):  #literal eval converts string to list\n",
    "        names=i[\"name\"]\n",
    "        if i[\"job\"]==\"Director\":\n",
    "            names_list.append(names)\n",
    "            break\n",
    "        else:\n",
    "            continue        \n",
    "    return names_list"
   ]
  },
  {
   "cell_type": "code",
   "execution_count": 27,
   "id": "7d4d0119-9b57-478e-9918-b558a8cdadcd",
   "metadata": {},
   "outputs": [],
   "source": [
    "movies['director']=''\n",
    "movies.director=movies.crew.apply(get_director)"
   ]
  },
  {
   "cell_type": "markdown",
   "id": "de5df179-03aa-4d49-81c7-58c46380ae7a",
   "metadata": {},
   "source": [
    "#### 4. Checking the overview column"
   ]
  },
  {
   "cell_type": "code",
   "execution_count": 28,
   "id": "425e7236-2310-4d57-bf88-68875884e199",
   "metadata": {},
   "outputs": [],
   "source": [
    "movies.overview=movies.overview.apply(lambda x:x.split())"
   ]
  },
  {
   "cell_type": "markdown",
   "id": "b3e19068-ed34-46a5-89e1-88aa42b2caaa",
   "metadata": {},
   "source": [
    "#### 5. Creating finalized dataset"
   ]
  },
  {
   "cell_type": "code",
   "execution_count": 29,
   "id": "1f71945d-1bbb-4f95-9cd6-8ab9d2f18bfa",
   "metadata": {},
   "outputs": [],
   "source": [
    "def remove_spaces(L):\n",
    "    L1 = []\n",
    "    for i in L:\n",
    "        L1.append(i.replace(\" \",\"\"))\n",
    "    return L1"
   ]
  },
  {
   "cell_type": "code",
   "execution_count": 30,
   "id": "7a35ca07-fb23-4cb0-b91e-05f5863a667f",
   "metadata": {},
   "outputs": [
    {
     "data": {
      "text/plain": [
       "0           [James Cameron]\n",
       "1          [Gore Verbinski]\n",
       "2              [Sam Mendes]\n",
       "3       [Christopher Nolan]\n",
       "4          [Andrew Stanton]\n",
       "               ...         \n",
       "4804     [Robert Rodriguez]\n",
       "4805         [Edward Burns]\n",
       "4806          [Scott Smith]\n",
       "4807          [Daniel Hsia]\n",
       "4808     [Brian Herzlinger]\n",
       "Name: director, Length: 4806, dtype: object"
      ]
     },
     "execution_count": 30,
     "metadata": {},
     "output_type": "execute_result"
    }
   ],
   "source": [
    "movies.director"
   ]
  },
  {
   "cell_type": "code",
   "execution_count": 31,
   "id": "0145fa63-ccba-49e6-b0a1-178b55cce645",
   "metadata": {},
   "outputs": [],
   "source": [
    "# Removing the spacces so that director names and actor names are treated as a single entity (eg: Leo and dicaprio aren't treated as separate words, rather Leodicaprio is treated as a single word)\n",
    "movies['cast'] = movies['cast'].apply(remove_spaces)\n",
    "movies['director'] = movies['director'].apply(remove_spaces)\n",
    "movies['genres'] = movies['genres'].apply(remove_spaces)\n",
    "movies['keywords'] = movies['keywords'].apply(remove_spaces)"
   ]
  },
  {
   "cell_type": "code",
   "execution_count": 32,
   "id": "e61204f7-0988-44e0-8597-76e9864018a0",
   "metadata": {},
   "outputs": [],
   "source": [
    "movies['tags'] = movies['overview'] + movies['genres'] + movies['keywords'] + movies['cast'] + movies['director']"
   ]
  },
  {
   "cell_type": "code",
   "execution_count": 33,
   "id": "058d3a8d-a58a-4452-9af0-df9145eccb97",
   "metadata": {},
   "outputs": [],
   "source": [
    "movies.drop(columns=['genres', 'keywords', 'overview', 'cast', 'crew','director'], inplace=True)"
   ]
  },
  {
   "cell_type": "code",
   "execution_count": 34,
   "id": "3c39bc56-c6a1-4bbe-926f-749118414fa2",
   "metadata": {},
   "outputs": [
    {
     "data": {
      "text/plain": [
       "Index(['id', 'title', 'vote_average', 'tags'], dtype='object')"
      ]
     },
     "execution_count": 34,
     "metadata": {},
     "output_type": "execute_result"
    }
   ],
   "source": [
    "movies.columns"
   ]
  },
  {
   "cell_type": "code",
   "execution_count": 35,
   "id": "7adb652c-9051-4bb4-9fda-77add55230bd",
   "metadata": {},
   "outputs": [],
   "source": [
    "movies['tags'] = movies['tags'].apply(lambda x: \" \".join(x)).apply(lambda x: x.lower())  # Convert list to string and all letters to lowercase"
   ]
  },
  {
   "cell_type": "code",
   "execution_count": 36,
   "id": "b31222d6-6f83-4b26-af56-5d0880b3f62d",
   "metadata": {},
   "outputs": [
    {
     "data": {
      "text/plain": [
       "'in the 22nd century, a paraplegic marine is dispatched to the moon pandora on a unique mission, but becomes torn between following orders and protecting an alien civilization. action adventure fantasy sciencefiction cultureclash future spacewar spacecolony society spacetravel futuristic romance space alien tribe alienplanet cgi marine soldier battle loveaffair antiwar powerrelations mindandsoul 3d samworthington zoesaldana sigourneyweaver jamescameron'"
      ]
     },
     "execution_count": 36,
     "metadata": {},
     "output_type": "execute_result"
    }
   ],
   "source": [
    "movies.tags[0]"
   ]
  },
  {
   "cell_type": "code",
   "execution_count": 37,
   "id": "1a72a721-bbb7-4013-81e0-075926fa0ab6",
   "metadata": {},
   "outputs": [
    {
     "data": {
      "text/html": [
       "<div>\n",
       "<style scoped>\n",
       "    .dataframe tbody tr th:only-of-type {\n",
       "        vertical-align: middle;\n",
       "    }\n",
       "\n",
       "    .dataframe tbody tr th {\n",
       "        vertical-align: top;\n",
       "    }\n",
       "\n",
       "    .dataframe thead th {\n",
       "        text-align: right;\n",
       "    }\n",
       "</style>\n",
       "<table border=\"1\" class=\"dataframe\">\n",
       "  <thead>\n",
       "    <tr style=\"text-align: right;\">\n",
       "      <th></th>\n",
       "      <th>id</th>\n",
       "      <th>title</th>\n",
       "      <th>vote_average</th>\n",
       "      <th>tags</th>\n",
       "    </tr>\n",
       "  </thead>\n",
       "  <tbody>\n",
       "    <tr>\n",
       "      <th>0</th>\n",
       "      <td>19995</td>\n",
       "      <td>Avatar</td>\n",
       "      <td>7.2</td>\n",
       "      <td>in the 22nd century, a paraplegic marine is di...</td>\n",
       "    </tr>\n",
       "    <tr>\n",
       "      <th>1</th>\n",
       "      <td>285</td>\n",
       "      <td>Pirates of the Caribbean: At World's End</td>\n",
       "      <td>6.9</td>\n",
       "      <td>captain barbossa, long believed to be dead, ha...</td>\n",
       "    </tr>\n",
       "    <tr>\n",
       "      <th>2</th>\n",
       "      <td>206647</td>\n",
       "      <td>Spectre</td>\n",
       "      <td>6.3</td>\n",
       "      <td>a cryptic message from bond’s past sends him o...</td>\n",
       "    </tr>\n",
       "    <tr>\n",
       "      <th>3</th>\n",
       "      <td>49026</td>\n",
       "      <td>The Dark Knight Rises</td>\n",
       "      <td>7.6</td>\n",
       "      <td>following the death of district attorney harve...</td>\n",
       "    </tr>\n",
       "    <tr>\n",
       "      <th>4</th>\n",
       "      <td>49529</td>\n",
       "      <td>John Carter</td>\n",
       "      <td>6.1</td>\n",
       "      <td>john carter is a war-weary, former military ca...</td>\n",
       "    </tr>\n",
       "  </tbody>\n",
       "</table>\n",
       "</div>"
      ],
      "text/plain": [
       "       id                                     title  vote_average  \\\n",
       "0   19995                                    Avatar           7.2   \n",
       "1     285  Pirates of the Caribbean: At World's End           6.9   \n",
       "2  206647                                   Spectre           6.3   \n",
       "3   49026                     The Dark Knight Rises           7.6   \n",
       "4   49529                               John Carter           6.1   \n",
       "\n",
       "                                                tags  \n",
       "0  in the 22nd century, a paraplegic marine is di...  \n",
       "1  captain barbossa, long believed to be dead, ha...  \n",
       "2  a cryptic message from bond’s past sends him o...  \n",
       "3  following the death of district attorney harve...  \n",
       "4  john carter is a war-weary, former military ca...  "
      ]
     },
     "execution_count": 37,
     "metadata": {},
     "output_type": "execute_result"
    }
   ],
   "source": [
    "movies.head()"
   ]
  },
  {
   "cell_type": "markdown",
   "id": "ac72222b-65fe-40e8-8edf-9f6ed548911f",
   "metadata": {},
   "source": [
    "# Making the model"
   ]
  },
  {
   "cell_type": "markdown",
   "id": "c2b80cd8-a627-4eca-b420-619371ce5473",
   "metadata": {},
   "source": [
    "## Stemming"
   ]
  },
  {
   "cell_type": "code",
   "execution_count": 39,
   "id": "35041589-518e-4f1d-99e9-4f792c6ca72e",
   "metadata": {},
   "outputs": [],
   "source": [
    "#many words are repeated like {action,actions},{actor,actors}, thus stemming is needed\n",
    "from nltk.stem.porter import PorterStemmer\n",
    "ps=PorterStemmer()"
   ]
  },
  {
   "cell_type": "code",
   "execution_count": 53,
   "id": "1edd3aeb-5676-433f-b64a-b6f4538d0b55",
   "metadata": {},
   "outputs": [],
   "source": [
    "def stem_words(text):\n",
    "    l=[]\n",
    "    for i in text.split():\n",
    "        l.append(ps.stem(i))\n",
    "    str=\" \".join(l)\n",
    "    return str"
   ]
  },
  {
   "cell_type": "code",
   "execution_count": 54,
   "id": "08edb3a8-5680-4000-b4a9-0052ac87c5f0",
   "metadata": {},
   "outputs": [],
   "source": [
    "movies.tags=movies.tags.apply(stem_words)"
   ]
  },
  {
   "cell_type": "markdown",
   "id": "0de4ae16-df6f-4a6d-87ed-c42826d33701",
   "metadata": {},
   "source": [
    "## Vectorization"
   ]
  },
  {
   "cell_type": "code",
   "execution_count": 55,
   "id": "49cbab8e-234e-4bb3-a4e2-3c358bef4b68",
   "metadata": {},
   "outputs": [],
   "source": [
    "# Vectorisation of words by converting into bag of words and choosing 5000 most common\n",
    "from sklearn.feature_extraction.text import CountVectorizer"
   ]
  },
  {
   "cell_type": "code",
   "execution_count": 80,
   "id": "d0d472cb-0924-4bc7-92d3-7f1fdfcf881f",
   "metadata": {},
   "outputs": [],
   "source": [
    " cv=CountVectorizer(max_features=2000,stop_words=\"english\")  # hyperparameter max_features to be tweaked as per performance"
   ]
  },
  {
   "cell_type": "code",
   "execution_count": 81,
   "id": "1954992f-9557-49eb-b9a5-4edc18f2416e",
   "metadata": {},
   "outputs": [
    {
     "data": {
      "text/plain": [
       "(4806, 2000)"
      ]
     },
     "execution_count": 81,
     "metadata": {},
     "output_type": "execute_result"
    }
   ],
   "source": [
    "cv.fit_transform(movies.tags).toarray().shape"
   ]
  },
  {
   "cell_type": "code",
   "execution_count": 82,
   "id": "8cb0247d-0d52-48e6-afd1-8e40a999466d",
   "metadata": {
    "scrolled": true
   },
   "outputs": [
    {
     "data": {
      "text/plain": [
       "array(['000', '10', '11', ..., 'youth', 'zombi', 'zoo'], dtype=object)"
      ]
     },
     "execution_count": 82,
     "metadata": {},
     "output_type": "execute_result"
    }
   ],
   "source": [
    "cv.get_feature_names_out()"
   ]
  },
  {
   "cell_type": "code",
   "execution_count": 83,
   "id": "f1b90b58-5a62-47f7-983e-0c3bf56c5b1b",
   "metadata": {},
   "outputs": [],
   "source": [
    "vector_movies=cv.fit_transform(movies.tags).toarray()"
   ]
  },
  {
   "cell_type": "markdown",
   "id": "75f360f2-b090-4727-a49b-4f1c6228c579",
   "metadata": {},
   "source": [
    "## Similarity"
   ]
  },
  {
   "cell_type": "code",
   "execution_count": 84,
   "id": "569b40ac-c738-4362-9357-52670712c2d1",
   "metadata": {},
   "outputs": [],
   "source": [
    "# Calculate similarity between each vector\n",
    "from sklearn.metrics.pairwise import cosine_similarity"
   ]
  },
  {
   "cell_type": "code",
   "execution_count": 85,
   "id": "cb517b81-48a6-499b-959a-9e6212d44712",
   "metadata": {},
   "outputs": [],
   "source": [
    "similar=cosine_similarity(vector_movies)"
   ]
  },
  {
   "cell_type": "code",
   "execution_count": 86,
   "id": "33f6a0f4-b6c0-4d51-a2b4-97c25f4a6147",
   "metadata": {},
   "outputs": [
    {
     "data": {
      "text/plain": [
       "(4806, 4806)"
      ]
     },
     "execution_count": 86,
     "metadata": {},
     "output_type": "execute_result"
    }
   ],
   "source": [
    "similar.shape"
   ]
  },
  {
   "cell_type": "markdown",
   "id": "f99d3703-6d77-47fc-acb8-fa22c39d513d",
   "metadata": {},
   "source": [
    "## Recommender"
   ]
  },
  {
   "cell_type": "code",
   "execution_count": 87,
   "id": "91d39445-9e10-42f4-ba16-a7f6b4e5f8e9",
   "metadata": {},
   "outputs": [],
   "source": [
    "def recommend_mov(movie):\n",
    "    movie_index=movies[movies.title==movie].index[0]\n",
    "    distance=similar[movie_index]\n",
    "    movie_list=sorted(list(enumerate(distance)),reverse=True,key=lambda x:x[1])[1:6]\n",
    "\n",
    "    for i in movie_list:\n",
    "        movie_names=movies.iloc[i[0]].title\n",
    "        print(movie_names)\n",
    "    \n",
    "    return "
   ]
  },
  {
   "cell_type": "code",
   "execution_count": 88,
   "id": "463f5843-43d0-4456-af53-e248d09040fd",
   "metadata": {},
   "outputs": [
    {
     "name": "stdout",
     "output_type": "stream",
     "text": [
      "The Dark Knight\n",
      "Batman\n",
      "Batman\n",
      "10th & Wolf\n",
      "Superman\n"
     ]
    }
   ],
   "source": [
    "recommend_mov(\"Batman Begins\")"
   ]
  },
  {
   "cell_type": "markdown",
   "id": "2c80e0f4-6537-44d4-be04-8c275bd12c8a",
   "metadata": {},
   "source": [
    "# Exporting file to pycharm"
   ]
  },
  {
   "cell_type": "code",
   "execution_count": 96,
   "id": "e84f581f-9c13-4e8a-a5f2-b5a60ec18cc7",
   "metadata": {},
   "outputs": [],
   "source": [
    "pkl.dump(movies,open(\"movies_list.pkl\",\"wb\"))"
   ]
  },
  {
   "cell_type": "code",
   "execution_count": 95,
   "id": "dfe62dd6-81e4-414a-8559-50a32f289143",
   "metadata": {},
   "outputs": [],
   "source": [
    "pickle.dump(similar,open('similarity.pkl','wb'))"
   ]
  },
  {
   "cell_type": "code",
   "execution_count": null,
   "id": "5468b32f-0708-470e-98f1-63fa5b7fe253",
   "metadata": {},
   "outputs": [],
   "source": []
  },
  {
   "cell_type": "code",
   "execution_count": null,
   "id": "ac440f1c-ce81-47fa-a300-e79fc8ad8f4d",
   "metadata": {},
   "outputs": [],
   "source": []
  }
 ],
 "metadata": {
  "kernelspec": {
   "display_name": "Python 3 (ipykernel)",
   "language": "python",
   "name": "python3"
  },
  "language_info": {
   "codemirror_mode": {
    "name": "ipython",
    "version": 3
   },
   "file_extension": ".py",
   "mimetype": "text/x-python",
   "name": "python",
   "nbconvert_exporter": "python",
   "pygments_lexer": "ipython3",
   "version": "3.10.8"
  }
 },
 "nbformat": 4,
 "nbformat_minor": 5
}
